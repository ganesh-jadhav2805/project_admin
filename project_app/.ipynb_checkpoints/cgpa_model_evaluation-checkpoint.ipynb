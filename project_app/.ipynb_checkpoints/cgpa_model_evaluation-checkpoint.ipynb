{
 "cells": [
  {
   "cell_type": "markdown",
   "id": "7fcc7e7a",
   "metadata": {},
   "source": [
    "### Evaluation on Testing Data"
   ]
  },
  {
   "cell_type": "code",
   "execution_count": null,
   "id": "22035e8b",
   "metadata": {},
   "outputs": [],
   "source": [
    "mse= mean_squared_error(y_test,y_pred_test)\n",
    "print('Mean Squared Error :',mse)\n",
    "\n",
    "rmse= np.sqrt(mse)\n",
    "print('Root Mean Squared Error: ',rmse)\n",
    "\n",
    "mae=mean_absolute_error(y_test,y_pred_test)\n",
    "print('Mean Absolute Error: ',mae)\n",
    "\n",
    "r_sqr=r2_score(y_test,y_pred_test)\n",
    "print('R2_Score :',r_sqr)\n",
    "\n",
    "r2_adj=1-(((1-r_sqr)*(x_test.shape[0]-1))/(x_test.shape[0]- x_test.shape[1]-1))\n",
    "print('Adjusted R2_Score: ',r2_adj)"
   ]
  },
  {
   "cell_type": "markdown",
   "id": "c0a915f4",
   "metadata": {},
   "source": [
    "### Evaluation on Traning Data"
   ]
  },
  {
   "cell_type": "code",
   "execution_count": null,
   "id": "8744b1f7",
   "metadata": {},
   "outputs": [],
   "source": [
    "y_pred_train = lin_reg.predict(x_train)\n",
    "y_pred_train"
   ]
  },
  {
   "cell_type": "code",
   "execution_count": null,
   "id": "a66f3d2d",
   "metadata": {},
   "outputs": [],
   "source": [
    "mse=mean_squared_error(y_train,y_pred_train)\n",
    "print('Mean Squared Error :', mse)\n",
    "\n",
    "rmse=np.sqrt(mse)\n",
    "print('Root Mean Squared Error:', rmse)\n",
    "\n",
    "mae=mean_absolute_error(y_train,y_pred_train)\n",
    "print('Mean Absolute Error:',mae)\n",
    "\n",
    "r_sqrd=r2_score(y_train,y_pred_train)\n",
    "print('R2_Score :',r_sqrd)\n",
    "\n",
    "r2_adj=1-(((1-r_sqr)*(x_test.shape[0]-1))/(x_test.shape[0]- x_test.shape[1]-1))\n",
    "print('Adjusted R2_Score: ',r2_adj)"
   ]
  }
 ],
 "metadata": {
  "kernelspec": {
   "display_name": "Python 3 (ipykernel)",
   "language": "python",
   "name": "python3"
  },
  "language_info": {
   "codemirror_mode": {
    "name": "ipython",
    "version": 3
   },
   "file_extension": ".py",
   "mimetype": "text/x-python",
   "name": "python",
   "nbconvert_exporter": "python",
   "pygments_lexer": "ipython3",
   "version": "3.10.7"
  }
 },
 "nbformat": 4,
 "nbformat_minor": 5
}
